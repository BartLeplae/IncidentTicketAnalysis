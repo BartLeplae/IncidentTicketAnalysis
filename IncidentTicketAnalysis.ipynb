{
 "cells": [
  {
   "cell_type": "markdown",
   "metadata": {},
   "source": [
    "Business Questions:\n",
    "1. What are the factors that influence the time to resolve incident tickets?\n",
    "2. Is there a difference in ticket resolution time between vendors?\n",
    "3. Can customer satisfaction be related to the resolution time?\n",
    "\n",
    "Approach:\n",
    "The incident data was extracted from an EDL (3 month worth of data)\n",
    "The incident resolution times cannot be directly related because the resolution time depend on the context of the ticket: Priority, Agreed SLA, ...\n",
    "The first part of the analysis models predicts the incident resolution times based on the ticket context.\n",
    "The second part of the analysis evaluates the factors of interest against the difference between actual and predicted resolution times."
   ]
  },
  {
   "cell_type": "code",
   "execution_count": 1,
   "metadata": {},
   "outputs": [],
   "source": [
    "# Import the applicable libraries\n",
    "import pandas as pd\n",
    "import numpy as np\n",
    "import matplotlib.pyplot as plt\n",
    "from sklearn.linear_model import LinearRegression\n",
    "from sklearn.model_selection import train_test_split\n",
    "from sklearn.metrics import r2_score, mean_squared_error\n",
    "from scipy import stats\n",
    "import seaborn as sns\n",
    "%matplotlib inline"
   ]
  },
  {
   "cell_type": "code",
   "execution_count": 2,
   "metadata": {},
   "outputs": [],
   "source": [
    "# Load the Incident data\n",
    "df_org = pd.read_excel(\"Incidents.xlsx\")\n",
    "\n",
    "# Convert seconds to days\n",
    "df_org[\"ttr_days\"]=df_org[\"am_ttr\"]/3600/24                 # Keep as an alternative: this is the time excluding time waiting for customer\n",
    "df_org[\"ttr_days\"]=df_org[\"global_ttr_seconds\"]/3600/24\n",
    "\n",
    "# Remove the columns that reflect time to resolve expressed in seconds\n",
    "df_org.drop(columns=[\"am_ttr\"], inplace=True)\n",
    "df_org.drop(columns=[\"global_ttr_seconds\"], inplace=True)"
   ]
  },
  {
   "cell_type": "code",
   "execution_count": 3,
   "metadata": {},
   "outputs": [],
   "source": [
    "# Define the categorical values that can be considered as differentiators (causes) for the incident time to resolve\n",
    "cat_vars = [\"appl_tier\",\"priority\",\"contact_type\",\"team\",\"inc_close_code\"]\n",
    "\n",
    "# Classify the categorical values with less then 50 occurences as 'other'\n",
    "df_org = df_org.apply(lambda x: x.mask(x.map(x.value_counts())<50, 'other') if x.name in cat_vars else x)\n",
    "\n",
    "# Dummy the defined categorical variables\n",
    "for var in  cat_vars:\n",
    "    df_org = pd.concat([df_org, pd.get_dummies(df_org[var], prefix=var, prefix_sep='__', drop_first=True, dummy_na=False)], axis=1)"
   ]
  },
  {
   "cell_type": "code",
   "execution_count": 4,
   "metadata": {},
   "outputs": [],
   "source": [
    "# Exclude the top 5% of time to resolve to avoid skewing the model\n",
    "df = df_org[df_org[\"ttr_days\"]<df_org[\"ttr_days\"].quantile(0.95)]\n",
    "\n",
    "# Retain the dummy categorical variables with '__' in their name as the X matrix\n",
    "X_cols = [col for col in df.columns if '__' in col]\n",
    "X = df[X_cols]\n",
    "\n",
    "# Retain the time to resolve as the target variable\n",
    "y = df['ttr_days']"
   ]
  },
  {
   "cell_type": "code",
   "execution_count": 5,
   "metadata": {},
   "outputs": [
    {
     "data": {
      "image/png": "[encoded data removed]",
      "text/plain": [
       "<Figure size 640x480 with 1 Axes>"
      ]
     },
     "metadata": {},
     "output_type": "display_data"
    }
   ],
   "source": [
    "# Histogram of the time to resolve values (limited to those used as the input to the linear model)\n",
    "sns.histplot(data=df,x=\"ttr_days\")\n",
    "plt.show()"
   ]
  },
  {
   "cell_type": "markdown",
   "metadata": {},
   "source": [
    "The seasonality (daily) is due to reduced activity during nights"
   ]
  },
  {
   "cell_type": "code",
   "execution_count": 6,
   "metadata": {},
   "outputs": [
    {
     "name": "stdout",
     "output_type": "stream",
     "text": [
      "Rsquared training data: 0.255.  Rsquared test data: 0.253\n"
     ]
    }
   ],
   "source": [
    "#Split into train and test\n",
    "X_train, X_test, y_train, y_test = train_test_split(X, y, test_size=0.2, random_state=42)\n",
    "\n",
    "#Instantiate the linear model and fit to the train values\n",
    "lm_model = LinearRegression(normalize=True)\n",
    "lm_model.fit(X_train, y_train)\n",
    "\n",
    "#Predict using linear model\n",
    "y_test_preds = lm_model.predict(X_test)\n",
    "y_train_preds = lm_model.predict(X_train)\n",
    "\n",
    "#Score using linear model\n",
    "r2_test = r2_score(y_test, y_test_preds)\n",
    "r2_train = r2_score(y_train, y_train_preds)\n",
    "\n",
    "print(\"Rsquared training data: {:.3f}.  Rsquared test data: {:.3f}\".format(r2_train, r2_test))"
   ]
  },
  {
   "cell_type": "markdown",
   "metadata": {},
   "source": [
    "Rsquared results are almost the same for training and test data which indicates the model is fit for purpose\n",
    "The purpose = check the influence of the other variables on the time to resolve.\n",
    "\n",
    "Remark: including these other variables as part of the linear model leads to extreme overfitting"
   ]
  },
  {
   "cell_type": "code",
   "execution_count": 7,
   "metadata": {},
   "outputs": [
    {
     "data": {
      "text/html": [
       "<div>\n",
       "<style scoped>\n",
       "    .dataframe tbody tr th:only-of-type {\n",
       "        vertical-align: middle;\n",
       "    }\n",
       "\n",
       "    .dataframe tbody tr th {\n",
       "        vertical-align: top;\n",
       "    }\n",
       "\n",
       "    .dataframe thead th {\n",
       "        text-align: right;\n",
       "    }\n",
       "</style>\n",
       "<table border=\"1\" class=\"dataframe\">\n",
       "  <thead>\n",
       "    <tr style=\"text-align: right;\">\n",
       "      <th></th>\n",
       "      <th>est_int</th>\n",
       "      <th>coefs</th>\n",
       "    </tr>\n",
       "  </thead>\n",
       "  <tbody>\n",
       "    <tr>\n",
       "      <th>3</th>\n",
       "      <td>priority__Priority 4</td>\n",
       "      <td>1.603126</td>\n",
       "    </tr>\n",
       "    <tr>\n",
       "      <th>1</th>\n",
       "      <td>appl_tier__Iron</td>\n",
       "      <td>1.582030</td>\n",
       "    </tr>\n",
       "    <tr>\n",
       "      <th>8</th>\n",
       "      <td>contact_type__self-service</td>\n",
       "      <td>1.042071</td>\n",
       "    </tr>\n",
       "    <tr>\n",
       "      <th>10</th>\n",
       "      <td>team__Specialist</td>\n",
       "      <td>0.699585</td>\n",
       "    </tr>\n",
       "    <tr>\n",
       "      <th>6</th>\n",
       "      <td>contact_type__other</td>\n",
       "      <td>0.513311</td>\n",
       "    </tr>\n",
       "    <tr>\n",
       "      <th>13</th>\n",
       "      <td>inc_close_code__Information Provided / Training</td>\n",
       "      <td>0.328495</td>\n",
       "    </tr>\n",
       "    <tr>\n",
       "      <th>9</th>\n",
       "      <td>contact_type__walk-in</td>\n",
       "      <td>0.243166</td>\n",
       "    </tr>\n",
       "    <tr>\n",
       "      <th>7</th>\n",
       "      <td>contact_type__phone</td>\n",
       "      <td>0.209895</td>\n",
       "    </tr>\n",
       "    <tr>\n",
       "      <th>11</th>\n",
       "      <td>inc_close_code__Data Correction</td>\n",
       "      <td>0.171359</td>\n",
       "    </tr>\n",
       "    <tr>\n",
       "      <th>5</th>\n",
       "      <td>contact_type__chat</td>\n",
       "      <td>0.143556</td>\n",
       "    </tr>\n",
       "    <tr>\n",
       "      <th>16</th>\n",
       "      <td>inc_close_code__Software Correction</td>\n",
       "      <td>0.078939</td>\n",
       "    </tr>\n",
       "    <tr>\n",
       "      <th>12</th>\n",
       "      <td>inc_close_code__Environmental Restoration</td>\n",
       "      <td>0.075554</td>\n",
       "    </tr>\n",
       "    <tr>\n",
       "      <th>2</th>\n",
       "      <td>appl_tier__Silver</td>\n",
       "      <td>-0.014484</td>\n",
       "    </tr>\n",
       "    <tr>\n",
       "      <th>15</th>\n",
       "      <td>inc_close_code__Security Modification</td>\n",
       "      <td>-0.226756</td>\n",
       "    </tr>\n",
       "    <tr>\n",
       "      <th>17</th>\n",
       "      <td>inc_close_code__other</td>\n",
       "      <td>-0.271791</td>\n",
       "    </tr>\n",
       "    <tr>\n",
       "      <th>14</th>\n",
       "      <td>inc_close_code__Reboot / Restart</td>\n",
       "      <td>-0.675387</td>\n",
       "    </tr>\n",
       "    <tr>\n",
       "      <th>4</th>\n",
       "      <td>priority__other</td>\n",
       "      <td>-0.713625</td>\n",
       "    </tr>\n",
       "    <tr>\n",
       "      <th>0</th>\n",
       "      <td>appl_tier__Gold</td>\n",
       "      <td>-0.857691</td>\n",
       "    </tr>\n",
       "  </tbody>\n",
       "</table>\n",
       "</div>"
      ],
      "text/plain": [
       "                                            est_int     coefs\n",
       "3                              priority__Priority 4  1.603126\n",
       "1                                   appl_tier__Iron  1.582030\n",
       "8                        contact_type__self-service  1.042071\n",
       "10                                 team__Specialist  0.699585\n",
       "6                               contact_type__other  0.513311\n",
       "13  inc_close_code__Information Provided / Training  0.328495\n",
       "9                             contact_type__walk-in  0.243166\n",
       "7                               contact_type__phone  0.209895\n",
       "11                  inc_close_code__Data Correction  0.171359\n",
       "5                                contact_type__chat  0.143556\n",
       "16              inc_close_code__Software Correction  0.078939\n",
       "12        inc_close_code__Environmental Restoration  0.075554\n",
       "2                                 appl_tier__Silver -0.014484\n",
       "15            inc_close_code__Security Modification -0.226756\n",
       "17                            inc_close_code__other -0.271791\n",
       "14                 inc_close_code__Reboot / Restart -0.675387\n",
       "4                                   priority__other -0.713625\n",
       "0                                   appl_tier__Gold -0.857691"
      ]
     },
     "execution_count": 7,
     "metadata": {},
     "output_type": "execute_result"
    }
   ],
   "source": [
    "#Store the coefficients in an Excel file\n",
    "def coef_weights(coefficients, X_train):\n",
    "    '''\n",
    "    INPUT:\n",
    "    coefficients - the coefficients of the linear model \n",
    "    X_train - the training data, so the column names can be used\n",
    "    OUTPUT:\n",
    "    coefs_df - a dataframe holding the coefficient, estimate, and abs(estimate)\n",
    "    \n",
    "    Provides a dataframe that can be used to understand the most influential coefficients\n",
    "    in a linear model by providing the coefficient estimates along with the name of the \n",
    "    variable attached to the coefficient.\n",
    "    '''\n",
    "    coefs_df = pd.DataFrame()\n",
    "    coefs_df['est_int'] = X_train.columns\n",
    "    coefs_df['coefs'] = lm_model.coef_\n",
    "    coefs_df = coefs_df.sort_values('coefs', ascending=False)\n",
    "    return coefs_df\n",
    "\n",
    "#Use the function\n",
    "coef_df = coef_weights(lm_model.coef_, X_train)\n",
    "\n",
    "#Export the coefficients to Excel\n",
    "coef_df.to_excel(\"IncidentDuration_coef.xlsx\")\n",
    "\n",
    "coef_df"
   ]
  },
  {
   "cell_type": "markdown",
   "metadata": {},
   "source": [
    "The coefficients match with the expected behavior."
   ]
  },
  {
   "cell_type": "code",
   "execution_count": 8,
   "metadata": {},
   "outputs": [],
   "source": [
    "#Calculate the predicted time to resolve by applying the model to the original dataset\n",
    "df_org[\"pred\"] = lm_model.predict(df_org[X_cols])\n",
    "\n",
    "#Calculate the difference between the actual and predicted time to resolve\n",
    "df_org[\"diff\"] = df_org[\"ttr_days\"]-df_org[\"pred\"]"
   ]
  },
  {
   "cell_type": "code",
   "execution_count": 9,
   "metadata": {},
   "outputs": [
    {
     "name": "stdout",
     "output_type": "stream",
     "text": [
      "0.004440067931043209\n"
     ]
    },
    {
     "data": {
      "image/png": "[encoded data removed]",
      "text/plain": [
       "<Figure size 640x480 with 1 Axes>"
      ]
     },
     "metadata": {},
     "output_type": "display_data"
    }
   ],
   "source": [
    "#Check the distribution of the calculated diff values through a histogram (centered around 0)\n",
    "#Eliminate the outlier values since we are interested in the normal process behavior\n",
    "df = df_org[df_org[\"ttr_days\"]<df_org[\"ttr_days\"].quantile(0.95)]\n",
    "print(df[\"diff\"].mean())\n",
    "sns.histplot(data=df,x=\"diff\")\n",
    "plt.show()"
   ]
  },
  {
   "cell_type": "code",
   "execution_count": 10,
   "metadata": {},
   "outputs": [],
   "source": [
    "# Determine the columns for which the statistics are to be calculated\n",
    "# - Eliminate the dummy columns\n",
    "# - Eliminate the target variables\n",
    "# - Eliminate the variables that were used as input for the linear model\n",
    "T_cols = [col for col in df.columns if '__' not in col]\n",
    "T_cols = list(set(T_cols)-set(cat_vars)-set([\"ttr_days\",\"pred\",\"diff\"]))"
   ]
  },
  {
   "cell_type": "code",
   "execution_count": 11,
   "metadata": {},
   "outputs": [],
   "source": [
    "# Create a new dataframe to collect the statistics for every Variable-Value combination\n",
    "# Statistic: 1 Sample Ttest to check if mean is greater than 0\n",
    "# Leave out Variable-Value with fewer than 25 rows\n",
    "\n",
    "df_col_values_analysis = pd.DataFrame(columns=[\"Variable\",\"Value\",\"Count\",\"Mean\",\"Ttest\",\"p_i\",\"p_d\"])\n",
    "\n",
    "for col in T_cols:\n",
    "    for value in df[col].unique():        \n",
    "        if df[df[col]==value][\"diff\"].shape[0]>25:\n",
    "            t_i, p_i =  stats.ttest_1samp(df[df[col]==value][\"diff\"],popmean=0,alternative='greater')\n",
    "            t_d, p_d =  stats.ttest_1samp(df[df[col]==value][\"diff\"],popmean=0,alternative='less')\n",
    "            new_row = {\"Variable\":col, \"Value\":value, \"Count\":df[df[col]==value].shape[0],\"Mean\": df[df[col]==value][\"diff\"].mean(),\n",
    "                \"Ttest\": t_i,\"p_i\": p_i, \"p_d\": p_d}\n",
    "            df_col_values_analysis = df_col_values_analysis.append(new_row, ignore_index=True)"
   ]
  },
  {
   "cell_type": "code",
   "execution_count": 13,
   "metadata": {},
   "outputs": [],
   "source": [
    "# Store the statistics sorted by the calculated p value in 2 separate sheet:\n",
    "# - Sheet \"Increases\"\n",
    "# - Sheet \"Decreases \"\"\n",
    "\n",
    "with pd.ExcelWriter(\"Factors influencing TTR.xlsx\") as writer:\n",
    "    df_col_values_analysis.sort_values(by=[\"p_i\",\"Mean\"], ascending=[True,True],inplace=True)\n",
    "    df_col_values_analysis.to_excel(writer,sheet_name=\"Factors with increased TTR.xlsx\")\n",
    "    df_col_values_analysis.sort_values(by=[\"p_d\",\"Mean\"], ascending=[True,False], inplace=True)\n",
    "    df_col_values_analysis.to_excel(writer,sheet_name=\"Factors with decreased TTR.xlsx\")"
   ]
  },
  {
   "cell_type": "markdown",
   "metadata": {},
   "source": [
    "The 'Breached' tickets are 'by defintion' those that have taken more that the agreed SLA time.\n",
    "So it is logical that these appear at the top of the list."
   ]
  },
  {
   "cell_type": "code",
   "execution_count": null,
   "metadata": {},
   "outputs": [
    {
     "data": {
      "text/plain": [
       "<AxesSubplot:xlabel='assignment_group_company', ylabel='diff'>"
      ]
     },
     "execution_count": 34,
     "metadata": {},
     "output_type": "execute_result"
    },
    {
     "data": {
      "image/png": "[encoded data removed]",
      "text/plain": [
       "<Figure size 640x480 with 1 Axes>"
      ]
     },
     "metadata": {},
     "output_type": "display_data"
    }
   ],
   "source": [
    "# Boxplot to depict the difference in resolution time for 4 different vendors\n",
    "sns.boxplot(data=df,x=\"assignment_group_company\", y=\"diff\")"
   ]
  },
  {
   "cell_type": "code",
   "execution_count": null,
   "metadata": {},
   "outputs": [
    {
     "data": {
      "text/html": [
       "<div>\n",
       "<style scoped>\n",
       "    .dataframe tbody tr th:only-of-type {\n",
       "        vertical-align: middle;\n",
       "    }\n",
       "\n",
       "    .dataframe tbody tr th {\n",
       "        vertical-align: top;\n",
       "    }\n",
       "\n",
       "    .dataframe thead th {\n",
       "        text-align: right;\n",
       "    }\n",
       "</style>\n",
       "<table border=\"1\" class=\"dataframe\">\n",
       "  <thead>\n",
       "    <tr style=\"text-align: right;\">\n",
       "      <th></th>\n",
       "      <th>Variable</th>\n",
       "      <th>Value</th>\n",
       "      <th>Count</th>\n",
       "      <th>Mean</th>\n",
       "      <th>Ttest</th>\n",
       "      <th>p_i</th>\n",
       "      <th>p_d</th>\n",
       "    </tr>\n",
       "  </thead>\n",
       "  <tbody>\n",
       "    <tr>\n",
       "      <th>221</th>\n",
       "      <td>assignment_group_company</td>\n",
       "      <td>VEND_D</td>\n",
       "      <td>2400</td>\n",
       "      <td>-0.219931</td>\n",
       "      <td>-7.850855</td>\n",
       "      <td>1.000000</td>\n",
       "      <td>3.087831e-15</td>\n",
       "    </tr>\n",
       "    <tr>\n",
       "      <th>222</th>\n",
       "      <td>assignment_group_company</td>\n",
       "      <td>VEND_B</td>\n",
       "      <td>7449</td>\n",
       "      <td>-0.021105</td>\n",
       "      <td>-0.976040</td>\n",
       "      <td>0.835462</td>\n",
       "      <td>1.645381e-01</td>\n",
       "    </tr>\n",
       "    <tr>\n",
       "      <th>224</th>\n",
       "      <td>assignment_group_company</td>\n",
       "      <td>VEND_C</td>\n",
       "      <td>3844</td>\n",
       "      <td>0.023617</td>\n",
       "      <td>0.784313</td>\n",
       "      <td>0.216452</td>\n",
       "      <td>7.835477e-01</td>\n",
       "    </tr>\n",
       "    <tr>\n",
       "      <th>223</th>\n",
       "      <td>assignment_group_company</td>\n",
       "      <td>VEND_A</td>\n",
       "      <td>7059</td>\n",
       "      <td>0.097237</td>\n",
       "      <td>4.402973</td>\n",
       "      <td>0.000005</td>\n",
       "      <td>9.999946e-01</td>\n",
       "    </tr>\n",
       "  </tbody>\n",
       "</table>\n",
       "</div>"
      ],
      "text/plain": [
       "                     Variable   Value Count      Mean     Ttest       p_i  \\\n",
       "221  assignment_group_company  VEND_D  2400 -0.219931 -7.850855  1.000000   \n",
       "222  assignment_group_company  VEND_B  7449 -0.021105 -0.976040  0.835462   \n",
       "224  assignment_group_company  VEND_C  3844  0.023617  0.784313  0.216452   \n",
       "223  assignment_group_company  VEND_A  7059  0.097237  4.402973  0.000005   \n",
       "\n",
       "              p_d  \n",
       "221  3.087831e-15  \n",
       "222  1.645381e-01  \n",
       "224  7.835477e-01  \n",
       "223  9.999946e-01  "
      ]
     },
     "execution_count": 33,
     "metadata": {},
     "output_type": "execute_result"
    }
   ],
   "source": [
    "df_col_values_analysis[df_col_values_analysis[\"Variable\"]==\"assignment_group_company\"]"
   ]
  },
  {
   "cell_type": "markdown",
   "metadata": {},
   "source": [
    "Vendor D shows and decreased TTR of 5 hours\n",
    "Vendor D has automated the assignment of tickets to their staff based on an availability matrix and tickets already assigned.\n",
    "This may explain the better performance.\n",
    "\n",
    "Vendor A shows and increased TTR of 2 hours."
   ]
  },
  {
   "cell_type": "code",
   "execution_count": null,
   "metadata": {},
   "outputs": [
    {
     "data": {
      "text/plain": [
       "<AxesSubplot:xlabel='csat_score', ylabel='diff'>"
      ]
     },
     "execution_count": 35,
     "metadata": {},
     "output_type": "execute_result"
    },
    {
     "data": {
      "image/png": "[encoded data removed]",
      "text/plain": [
       "<Figure size 640x480 with 1 Axes>"
      ]
     },
     "metadata": {},
     "output_type": "display_data"
    }
   ],
   "source": [
    "# Boxplot to depict the relation between satisfaction and resolution time\n",
    "# 1 = Low Satistfaction\n",
    "# 5 = High Satisfaction\n",
    "sns.boxplot(data=df,x=\"csat_score\", y=\"diff\")"
   ]
  },
  {
   "cell_type": "code",
   "execution_count": null,
   "metadata": {},
   "outputs": [
    {
     "data": {
      "text/html": [
       "<div>\n",
       "<style scoped>\n",
       "    .dataframe tbody tr th:only-of-type {\n",
       "        vertical-align: middle;\n",
       "    }\n",
       "\n",
       "    .dataframe tbody tr th {\n",
       "        vertical-align: top;\n",
       "    }\n",
       "\n",
       "    .dataframe thead th {\n",
       "        text-align: right;\n",
       "    }\n",
       "</style>\n",
       "<table border=\"1\" class=\"dataframe\">\n",
       "  <thead>\n",
       "    <tr style=\"text-align: right;\">\n",
       "      <th></th>\n",
       "      <th>Variable</th>\n",
       "      <th>Value</th>\n",
       "      <th>Count</th>\n",
       "      <th>Mean</th>\n",
       "      <th>Ttest</th>\n",
       "      <th>p_i</th>\n",
       "      <th>p_d</th>\n",
       "    </tr>\n",
       "  </thead>\n",
       "  <tbody>\n",
       "    <tr>\n",
       "      <th>228</th>\n",
       "      <td>csat_score</td>\n",
       "      <td>5.0</td>\n",
       "      <td>1299</td>\n",
       "      <td>-0.417347</td>\n",
       "      <td>-8.532256</td>\n",
       "      <td>1.000000</td>\n",
       "      <td>1.972685e-17</td>\n",
       "    </tr>\n",
       "    <tr>\n",
       "      <th>230</th>\n",
       "      <td>csat_score</td>\n",
       "      <td>4.0</td>\n",
       "      <td>277</td>\n",
       "      <td>-0.114177</td>\n",
       "      <td>-0.991278</td>\n",
       "      <td>0.838791</td>\n",
       "      <td>1.612091e-01</td>\n",
       "    </tr>\n",
       "    <tr>\n",
       "      <th>232</th>\n",
       "      <td>csat_score</td>\n",
       "      <td>2.0</td>\n",
       "      <td>29</td>\n",
       "      <td>-0.154406</td>\n",
       "      <td>-0.405646</td>\n",
       "      <td>0.655957</td>\n",
       "      <td>3.440429e-01</td>\n",
       "    </tr>\n",
       "    <tr>\n",
       "      <th>229</th>\n",
       "      <td>csat_score</td>\n",
       "      <td>3.0</td>\n",
       "      <td>69</td>\n",
       "      <td>0.238393</td>\n",
       "      <td>1.101173</td>\n",
       "      <td>0.137352</td>\n",
       "      <td>8.626480e-01</td>\n",
       "    </tr>\n",
       "    <tr>\n",
       "      <th>231</th>\n",
       "      <td>csat_score</td>\n",
       "      <td>1.0</td>\n",
       "      <td>78</td>\n",
       "      <td>0.948523</td>\n",
       "      <td>4.047071</td>\n",
       "      <td>0.000061</td>\n",
       "      <td>9.999388e-01</td>\n",
       "    </tr>\n",
       "  </tbody>\n",
       "</table>\n",
       "</div>"
      ],
      "text/plain": [
       "       Variable Value Count      Mean     Ttest       p_i           p_d\n",
       "228  csat_score   5.0  1299 -0.417347 -8.532256  1.000000  1.972685e-17\n",
       "230  csat_score   4.0   277 -0.114177 -0.991278  0.838791  1.612091e-01\n",
       "232  csat_score   2.0    29 -0.154406 -0.405646  0.655957  3.440429e-01\n",
       "229  csat_score   3.0    69  0.238393  1.101173  0.137352  8.626480e-01\n",
       "231  csat_score   1.0    78  0.948523  4.047071  0.000061  9.999388e-01"
      ]
     },
     "execution_count": 37,
     "metadata": {},
     "output_type": "execute_result"
    }
   ],
   "source": [
    "df_col_values_analysis[df_col_values_analysis[\"Variable\"]==\"csat_score\"]"
   ]
  },
  {
   "cell_type": "markdown",
   "metadata": {},
   "source": [
    "Increased resolution times clearly lead to lower customer satisfaction."
   ]
  },
  {
   "cell_type": "code",
   "execution_count": null,
   "metadata": {},
   "outputs": [
    {
     "data": {
      "text/plain": [
       "<AxesSubplot:xlabel='reassignment_count', ylabel='diff'>"
      ]
     },
     "execution_count": 36,
     "metadata": {},
     "output_type": "execute_result"
    },
    {
     "data": {
      "image/png": "[encoded data removed]",
      "text/plain": [
       "<Figure size 640x480 with 1 Axes>"
      ]
     },
     "metadata": {},
     "output_type": "display_data"
    }
   ],
   "source": [
    "# Boxplot to depict the effect of ticket reassignment (multiple groups and/or agents working sequentially on the ticket)\n",
    "sns.boxplot(data=df,x=\"reassignment_count\", y=\"diff\")"
   ]
  },
  {
   "cell_type": "code",
   "execution_count": null,
   "metadata": {},
   "outputs": [
    {
     "data": {
      "text/html": [
       "<div>\n",
       "<style scoped>\n",
       "    .dataframe tbody tr th:only-of-type {\n",
       "        vertical-align: middle;\n",
       "    }\n",
       "\n",
       "    .dataframe tbody tr th {\n",
       "        vertical-align: top;\n",
       "    }\n",
       "\n",
       "    .dataframe thead th {\n",
       "        text-align: right;\n",
       "    }\n",
       "</style>\n",
       "<table border=\"1\" class=\"dataframe\">\n",
       "  <thead>\n",
       "    <tr style=\"text-align: right;\">\n",
       "      <th></th>\n",
       "      <th>Variable</th>\n",
       "      <th>Value</th>\n",
       "      <th>Count</th>\n",
       "      <th>Mean</th>\n",
       "      <th>Ttest</th>\n",
       "      <th>p_i</th>\n",
       "      <th>p_d</th>\n",
       "    </tr>\n",
       "  </thead>\n",
       "  <tbody>\n",
       "    <tr>\n",
       "      <th>215</th>\n",
       "      <td>reassignment_count</td>\n",
       "      <td>0</td>\n",
       "      <td>14065</td>\n",
       "      <td>-0.069939</td>\n",
       "      <td>-4.599299</td>\n",
       "      <td>9.999979e-01</td>\n",
       "      <td>0.000002</td>\n",
       "    </tr>\n",
       "    <tr>\n",
       "      <th>216</th>\n",
       "      <td>reassignment_count</td>\n",
       "      <td>1</td>\n",
       "      <td>5557</td>\n",
       "      <td>0.046502</td>\n",
       "      <td>1.977665</td>\n",
       "      <td>2.400794e-02</td>\n",
       "      <td>0.975992</td>\n",
       "    </tr>\n",
       "    <tr>\n",
       "      <th>220</th>\n",
       "      <td>reassignment_count</td>\n",
       "      <td>5</td>\n",
       "      <td>33</td>\n",
       "      <td>2.109263</td>\n",
       "      <td>5.008835</td>\n",
       "      <td>9.683948e-06</td>\n",
       "      <td>0.999990</td>\n",
       "    </tr>\n",
       "    <tr>\n",
       "      <th>219</th>\n",
       "      <td>reassignment_count</td>\n",
       "      <td>4</td>\n",
       "      <td>69</td>\n",
       "      <td>1.439416</td>\n",
       "      <td>5.046470</td>\n",
       "      <td>1.790958e-06</td>\n",
       "      <td>0.999998</td>\n",
       "    </tr>\n",
       "    <tr>\n",
       "      <th>218</th>\n",
       "      <td>reassignment_count</td>\n",
       "      <td>2</td>\n",
       "      <td>794</td>\n",
       "      <td>0.491155</td>\n",
       "      <td>6.987910</td>\n",
       "      <td>2.958726e-12</td>\n",
       "      <td>1.000000</td>\n",
       "    </tr>\n",
       "    <tr>\n",
       "      <th>217</th>\n",
       "      <td>reassignment_count</td>\n",
       "      <td>3</td>\n",
       "      <td>217</td>\n",
       "      <td>1.051160</td>\n",
       "      <td>7.475684</td>\n",
       "      <td>9.475137e-13</td>\n",
       "      <td>1.000000</td>\n",
       "    </tr>\n",
       "  </tbody>\n",
       "</table>\n",
       "</div>"
      ],
      "text/plain": [
       "               Variable Value  Count      Mean     Ttest           p_i  \\\n",
       "215  reassignment_count     0  14065 -0.069939 -4.599299  9.999979e-01   \n",
       "216  reassignment_count     1   5557  0.046502  1.977665  2.400794e-02   \n",
       "220  reassignment_count     5     33  2.109263  5.008835  9.683948e-06   \n",
       "219  reassignment_count     4     69  1.439416  5.046470  1.790958e-06   \n",
       "218  reassignment_count     2    794  0.491155  6.987910  2.958726e-12   \n",
       "217  reassignment_count     3    217  1.051160  7.475684  9.475137e-13   \n",
       "\n",
       "          p_d  \n",
       "215  0.000002  \n",
       "216  0.975992  \n",
       "220  0.999990  \n",
       "219  0.999998  \n",
       "218  1.000000  \n",
       "217  1.000000  "
      ]
     },
     "execution_count": 38,
     "metadata": {},
     "output_type": "execute_result"
    }
   ],
   "source": [
    "df_col_values_analysis[df_col_values_analysis[\"Variable\"]==\"reassignment_count\"]"
   ]
  },
  {
   "cell_type": "markdown",
   "metadata": {},
   "source": [
    "Ticket reassignments between groups and support staff members increase the resolution time."
   ]
  },
  {
   "cell_type": "code",
   "execution_count": null,
   "metadata": {},
   "outputs": [
    {
     "data": {
      "text/plain": [
       "<AxesSubplot:xlabel='reopened_flag', ylabel='diff'>"
      ]
     },
     "execution_count": 159,
     "metadata": {},
     "output_type": "execute_result"
    },
    {
     "data": {
      "image/png": "[encoded data removed]",
      "text/plain": [
       "<Figure size 640x480 with 1 Axes>"
      ]
     },
     "metadata": {},
     "output_type": "display_data"
    }
   ],
   "source": [
    "# Boxplot to depict the effect of reopening a resolved ticket by a user\n",
    "sns.boxplot(data=df,x=\"reopened_flag\", y=\"diff\")"
   ]
  },
  {
   "cell_type": "code",
   "execution_count": null,
   "metadata": {},
   "outputs": [
    {
     "data": {
      "text/html": [
       "<div>\n",
       "<style scoped>\n",
       "    .dataframe tbody tr th:only-of-type {\n",
       "        vertical-align: middle;\n",
       "    }\n",
       "\n",
       "    .dataframe tbody tr th {\n",
       "        vertical-align: top;\n",
       "    }\n",
       "\n",
       "    .dataframe thead th {\n",
       "        text-align: right;\n",
       "    }\n",
       "</style>\n",
       "<table border=\"1\" class=\"dataframe\">\n",
       "  <thead>\n",
       "    <tr style=\"text-align: right;\">\n",
       "      <th></th>\n",
       "      <th>Variable</th>\n",
       "      <th>Value</th>\n",
       "      <th>Count</th>\n",
       "      <th>Mean</th>\n",
       "      <th>Ttest</th>\n",
       "      <th>p_i</th>\n",
       "      <th>p_d</th>\n",
       "    </tr>\n",
       "  </thead>\n",
       "  <tbody>\n",
       "    <tr>\n",
       "      <th>391</th>\n",
       "      <td>reopened_flag</td>\n",
       "      <td>0</td>\n",
       "      <td>20379</td>\n",
       "      <td>-0.015381</td>\n",
       "      <td>-1.218390</td>\n",
       "      <td>8.884550e-01</td>\n",
       "      <td>0.111545</td>\n",
       "    </tr>\n",
       "    <tr>\n",
       "      <th>392</th>\n",
       "      <td>reopened_flag</td>\n",
       "      <td>1</td>\n",
       "      <td>373</td>\n",
       "      <td>1.087383</td>\n",
       "      <td>9.795009</td>\n",
       "      <td>1.319106e-20</td>\n",
       "      <td>1.000000</td>\n",
       "    </tr>\n",
       "  </tbody>\n",
       "</table>\n",
       "</div>"
      ],
      "text/plain": [
       "          Variable Value  Count      Mean     Ttest           p_i       p_d\n",
       "391  reopened_flag     0  20379 -0.015381 -1.218390  8.884550e-01  0.111545\n",
       "392  reopened_flag     1    373  1.087383  9.795009  1.319106e-20  1.000000"
      ]
     },
     "execution_count": 39,
     "metadata": {},
     "output_type": "execute_result"
    }
   ],
   "source": [
    "df_col_values_analysis[df_col_values_analysis[\"Variable\"]==\"reopened_flag\"]"
   ]
  },
  {
   "cell_type": "markdown",
   "metadata": {},
   "source": [
    "Tickets that are reopened by the users have a longer resolution time.\n"
   ]
  }
 ],
 "metadata": {
  "kernelspec": {
   "display_name": "Python 3.9.7 ('env3')",
   "language": "python",
   "name": "python3"
  },
  "language_info": {
   "codemirror_mode": {
    "name": "ipython",
    "version": 3
   },
   "file_extension": ".py",
   "mimetype": "text/x-python",
   "name": "python",
   "nbconvert_exporter": "python",
   "pygments_lexer": "ipython3",
   "version": "3.9.7"
  },
  "orig_nbformat": 4,
  "vscode": {
   "interpreter": {
    "hash": "cfd1de150c009f8c8b9b2c926938d00166ffeef47528793aba59c1c01fe1b349"
   }
  }
 },
 "nbformat": 4,
 "nbformat_minor": 2
}
